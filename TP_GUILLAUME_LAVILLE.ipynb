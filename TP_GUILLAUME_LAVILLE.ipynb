{
  "nbformat": 4,
  "nbformat_minor": 0,
  "metadata": {
    "kernelspec": {
      "display_name": "Python 3",
      "language": "python",
      "name": "python3"
    },
    "language_info": {
      "codemirror_mode": {
        "name": "ipython",
        "version": 3
      },
      "file_extension": ".py",
      "mimetype": "text/x-python",
      "name": "python",
      "nbconvert_exporter": "python",
      "pygments_lexer": "ipython3",
      "version": "3.7.6"
    },
    "colab": {
      "name": "seance6.ipynb",
      "provenance": []
    }
  },
  "cells": [
    {
      "cell_type": "markdown",
      "metadata": {
        "id": "Bo9pfvPkLnYE"
      },
      "source": [
        "Ex 1 : La m ́ethode des rectangles\n",
        "On cherche à calculer une intégrale en utilisant la méthode des rectangles.\n",
        "![1.png](attachment:1.png)\n",
        "\n",
        "L’intervalle de l’intégrale est noté [a,b] et la fonction à intégrer f. On divise cet intervalle en n petits segments et on fait la somme des aires des petits rectangles délimités par l’axe des abscisses et la courbe de la fonction f.\n",
        "\n",
        "![2.png](attachment:2.png)\n",
        "\n",
        "1. Ecrire la fontion integrale(f,a,b,n) \n",
        "2. Quelle valeur de n faut-il choisir pour être précis à 10^{-4} près ? Ecrire la fonction qui permette de calculer cette valeur.\n",
        "3. Tester avec la fonction $f(x)=3x^3+2x-1$ sur l'interval [0,10] avec un pas de 0.001\n",
        "4. Tester avec la fonction $g(x)=cos(\\frac {1}{x})$ sur l'interval [-1;1] privé de 0"
      ]
    },
    {
      "cell_type": "markdown",
      "metadata": {
        "id": "JWFl0IwVM9PT"
      },
      "source": [
        "1. Fonction integrale()\n"
      ]
    },
    {
      "cell_type": "code",
      "metadata": {
        "id": "wSdL8HHELnYF"
      },
      "source": [
        "def integrale(f, a, b, n):\n",
        "  i = 1\n",
        "  somme = 0\n",
        "  while i <= n :\n",
        "    param = a + i * ((b - a) / n)\n",
        "    # On contrôle qu'on ne calcule pas la fonction g en 0\n",
        "    if (param != 0):\n",
        "      somme += f(param)\n",
        "    i += 1\n",
        "  return ((b - a) / n) * somme"
      ],
      "execution_count": 27,
      "outputs": []
    },
    {
      "cell_type": "markdown",
      "metadata": {
        "id": "jzI7zWYSOLSx"
      },
      "source": [
        "2. Pour être précis à 10^{-4}, il faut que n soit supérieur ou égale à (b-a/10^{-4})"
      ]
    },
    {
      "cell_type": "code",
      "metadata": {
        "colab": {
          "base_uri": "https://localhost:8080/"
        },
        "id": "e0VDnF7qOK8y",
        "outputId": "92108378-72aa-4657-f61d-158c34e0c9a0"
      },
      "source": [
        "def nombreDivisions(a, b, pas):\n",
        "  n = 1\n",
        "  while (b - a)/n > pas:\n",
        "    n += 1\n",
        "  return n\n",
        "\n",
        "nombreDivisions(0, 10, 0.001)"
      ],
      "execution_count": 8,
      "outputs": [
        {
          "output_type": "execute_result",
          "data": {
            "text/plain": [
              "10000"
            ]
          },
          "metadata": {
            "tags": []
          },
          "execution_count": 8
        }
      ]
    },
    {
      "cell_type": "markdown",
      "metadata": {
        "id": "940wgPQuO88o"
      },
      "source": [
        "3. On test avec f(x)=3x3+2x−1 sur [0, 10], avec un pas de 0.001"
      ]
    },
    {
      "cell_type": "code",
      "metadata": {
        "colab": {
          "base_uri": "https://localhost:8080/"
        },
        "id": "UQK5TUR3O9wZ",
        "outputId": "dfaf2696-273f-4374-c651-a0959e897d37"
      },
      "source": [
        "def f(x):\n",
        "  return 3*x ** 3 + 2*x - 1\n",
        "\n",
        "a, b = 0, 10\n",
        "pas = 0.001\n",
        "n = nombreDivisions(a, b, pas)\n",
        "integrale(f, a, b, n)"
      ],
      "execution_count": 12,
      "outputs": [
        {
          "output_type": "execute_result",
          "data": {
            "text/plain": [
              "7591.510075000001"
            ]
          },
          "metadata": {
            "tags": []
          },
          "execution_count": 12
        }
      ]
    },
    {
      "cell_type": "markdown",
      "metadata": {
        "id": "jtQl5R14SRtv"
      },
      "source": [
        "4. g(x)=cos(1/x) sur [-1, 1] privé de 0 "
      ]
    },
    {
      "cell_type": "code",
      "metadata": {
        "colab": {
          "base_uri": "https://localhost:8080/"
        },
        "id": "oK5mYda2SYDZ",
        "outputId": "93571dc7-3085-4ef9-b8db-43ac47479325"
      },
      "source": [
        "import math\n",
        "\n",
        "def g(x):\n",
        "  return math.cos(1 / x)\n",
        "\n",
        "a, b = -1, 1\n",
        "pas = 0.000001\n",
        "n = nombreDivisions(a, b, pas)\n",
        "integrale(g, a, b, n)"
      ],
      "execution_count": 26,
      "outputs": [
        {
          "output_type": "execute_result",
          "data": {
            "text/plain": [
              "-0.16879407751853426"
            ]
          },
          "metadata": {
            "tags": []
          },
          "execution_count": 26
        }
      ]
    },
    {
      "cell_type": "markdown",
      "metadata": {
        "id": "CK_iQpjpLnYG"
      },
      "source": [
        "Ex2: Méthode des trapèzes\n",
        "Le calcul numérique d’une intégrale par la méthode des trapèzes consiste à calculer une valeur approchée de l’intégrale $\\int_{a}^{b}f(x)dx$ en utilisant une interpolation linéaire de f par intervalles. Sur un intervalle [a,b], la valeur de l’intégrale peut être approchée par la surface du trapèze \n",
        "passant par les points[a,0],[a,f(a)],[b,f(b)],[b,0]:\n",
        "$$\\int_{a}^{b}f(x)dx \\approx (b-a) \\left [ \\frac{f(a)+f(b)}{2} \\right ]$$\n",
        "\n",
        "Pour calculer une meilleur approximation de cette intégrale, on découpe l’intervalle [a,b] en n intervalles plus petits, de taille $\\frac{b-a}{n}$, et on calcule la somme des aires (signées) des trapèzes :\n",
        "$$\n",
        "\\int_{a}^{b}f(x)dx \\approx \\frac{(b-a)}{2n} \\sum_{k=1}^{n} \\left [ f(a+(k-1)\\frac{b-a}{n})+f(a+k\\frac{b-a}{n}) \\right ]$$\n",
        "\n",
        "1. Écrivez tous les termes de la somme ci-dessus pour n= 3, et observez qu’il est possible de faire le calcul avec exactement n+ 1 = 4 appels à la fonction f\n",
        "2. Écrire une fonction python integrale_trapezes(a, b, n) qui calcule l’intégrale de la fonction f(x) de a à b avec n intervalles, en faisant au plus n+ 1 appels à la fonction f.\n",
        "3. Pour $f(x) =xsin(x2)$, calculez l’erreur numérique de son intégrale sur l’intervalle [0,√π], pour 2 à 30 intervalles."
      ]
    },
    {
      "cell_type": "markdown",
      "metadata": {
        "id": "3VStgy3EYMzR"
      },
      "source": [
        "1. terme1 = [ (f(a) + f(a+h)) / 2] * h\n",
        "terme2 = [ (f(a+h) + f(a+2h)) / 2] * h\n",
        "terme3 = [ (f(a+2h) + f(b)) / 2] * h\n",
        "\n",
        "On se rend compte qu'avec 3 divisions, on appelle la fonction f avec les valeurs a, a+h, a+2h et b.\n",
        "\n",
        "2. Fonction integrale_trapezes(a, b, n)"
      ]
    },
    {
      "cell_type": "code",
      "metadata": {
        "colab": {
          "base_uri": "https://localhost:8080/"
        },
        "id": "n9sxXrVJVW6M",
        "outputId": "7010ebb5-beae-4775-de2b-79d9e706f1c5"
      },
      "source": [
        "def integrale_trapezes(f, a, b, n):\n",
        "  k = 1\n",
        "  somme = 0\n",
        "  while k <= n + 1 :\n",
        "    somme += f(a + (k - 1) * (b - a) / n) + f(a + k * (b - a) / n)\n",
        "    k += 1\n",
        "  return ((b - a) / (2*n)) * somme \n",
        "\n",
        "def f2(x):\n",
        "  return x * math.sin(x ** 2)\n",
        "\n",
        "integrale_trapezes(f2, 0, math.sqrt(math.pi), 500)"
      ],
      "execution_count": 38,
      "outputs": [
        {
          "output_type": "execute_result",
          "data": {
            "text/plain": [
              "0.9999538243614603"
            ]
          },
          "metadata": {
            "tags": []
          },
          "execution_count": 38
        }
      ]
    },
    {
      "cell_type": "markdown",
      "metadata": {
        "id": "4Azw27MLbrXE"
      },
      "source": [
        "On constate qu'avec un très grand nombre de divisions, l'intégrale tend vers 1. On va calculer l'erreur par rapport à 1."
      ]
    },
    {
      "cell_type": "code",
      "metadata": {
        "colab": {
          "base_uri": "https://localhost:8080/"
        },
        "id": "xgv_Thogbybs",
        "outputId": "d7291c59-c763-4f72-fba0-deddd977cf28"
      },
      "source": [
        "def calculerErreur():\n",
        "  n = 2\n",
        "  while (n <= 30):\n",
        "    erreur = 1 - integrale_trapezes(f2, 0, math.sqrt(math.pi), n)\n",
        "    print(\"Erreur pour n=\" + str(n) + \" : \" + str(erreur))\n",
        "    n += 1\n",
        "\n",
        "calculerErreur()"
      ],
      "execution_count": 40,
      "outputs": [
        {
          "output_type": "stream",
          "text": [
            "Erreur pour n=2 : -0.38840091817448985\n",
            "Erreur pour n=3 : 0.6418373434494513\n",
            "Erreur pour n=4 : 0.5877255514735873\n",
            "Erreur pour n=5 : 0.4375583805449863\n",
            "Erreur pour n=6 : 0.32321102725783135\n",
            "Erreur pour n=7 : 0.24428891338012404\n",
            "Erreur pour n=8 : 0.18959645988115026\n",
            "Erreur pour n=9 : 0.1507667928075579\n",
            "Erreur pour n=10 : 0.12244367448903037\n",
            "Erreur pour n=11 : 0.10125270037436396\n",
            "Erreur pour n=12 : 0.08503355733937612\n",
            "Erreur pour n=13 : 0.0723688962637824\n",
            "Erreur pour n=14 : 0.062304553968895116\n",
            "Erreur pour n=15 : 0.05418218121026086\n",
            "Erreur pour n=16 : 0.04753710216239748\n",
            "Erreur pour n=17 : 0.042034495355828816\n",
            "Erreur pour n=18 : 0.03742855371724185\n",
            "Erreur pour n=19 : 0.0335357434187431\n",
            "Erreur pour n=20 : 0.030216914237090498\n",
            "Erreur pour n=21 : 0.02736509109521723\n",
            "Erreur pour n=22 : 0.02489698849492994\n",
            "Erreur pour n=23 : 0.022747012246463583\n",
            "Erreur pour n=24 : 0.020862953089964775\n",
            "Erreur pour n=25 : 0.019202850460041554\n",
            "Erreur pour n=26 : 0.0177326780990249\n",
            "Erreur pour n=27 : 0.016424615189101988\n",
            "Erreur pour n=28 : 0.015255740190908917\n",
            "Erreur pour n=29 : 0.01420703362585607\n",
            "Erreur pour n=30 : 0.013262609257040592\n"
          ],
          "name": "stdout"
        }
      ]
    }
  ]
}